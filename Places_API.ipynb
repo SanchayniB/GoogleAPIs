{
 "cells": [
  {
   "cell_type": "code",
   "execution_count": 1,
   "metadata": {},
   "outputs": [],
   "source": [
    "import googlemaps as gm\n",
    "import pprint\n",
    "import time"
   ]
  },
  {
   "cell_type": "code",
   "execution_count": 3,
   "metadata": {},
   "outputs": [],
   "source": [
    "API_key = \n",
    "#paste your API here"
   ]
  },
  {
   "cell_type": "code",
   "execution_count": 4,
   "metadata": {},
   "outputs": [],
   "source": [
    "# Defining our client\n",
    "gmaps = gm.Client(key = API_key)"
   ]
  },
  {
   "cell_type": "markdown",
   "metadata": {},
   "source": [
    "Using places_nearby function"
   ]
  },
  {
   "cell_type": "code",
   "execution_count": 5,
   "metadata": {},
   "outputs": [],
   "source": [
    "places_result = gmaps.places_nearby(location='47.980709, 8.929490',radius=40000,open_now= False, type = 'cafe')"
   ]
  },
  {
   "cell_type": "code",
   "execution_count": null,
   "metadata": {},
   "outputs": [],
   "source": [
    "pprint.pprint(places_result)"
   ]
  },
  {
   "cell_type": "markdown",
   "metadata": {},
   "source": [
    "Using Find Place requests function"
   ]
  },
  {
   "cell_type": "code",
   "execution_count": 6,
   "metadata": {},
   "outputs": [],
   "source": [
    "find_place_result = gmaps.find_place(input= 'Hotel Garni Iris am See', input_type= 'textquery')"
   ]
  },
  {
   "cell_type": "code",
   "execution_count": 7,
   "metadata": {},
   "outputs": [
    {
     "name": "stdout",
     "output_type": "stream",
     "text": [
      "{'candidates': [{'place_id': 'ChIJMzX979lhmkcRE5rdeQGWPQA'}], 'status': 'OK'}\n"
     ]
    }
   ],
   "source": [
    "pprint.pprint(find_place_result)"
   ]
  },
  {
   "cell_type": "code",
   "execution_count": 8,
   "metadata": {},
   "outputs": [],
   "source": [
    "cd = find_place_result['candidates']\n",
    "place_id_new = cd[0]['place_id']"
   ]
  },
  {
   "cell_type": "markdown",
   "metadata": {},
   "source": [
    "Using place details function"
   ]
  },
  {
   "cell_type": "code",
   "execution_count": 36,
   "metadata": {},
   "outputs": [],
   "source": [
    "my_fields = [\"adr_address\", \"alt_id\", \"formatted_address\",\n",
    "    \"geometry\", \"icon\", \"id\", \"name\", \"permanently_closed\",\n",
    "    \"place_id\", \"plus_code\",  \"type\", \"url\", \"utc_offset\", \"vicinity\"]\n",
    "# Not able to use 'user_ratings_total' field which should have been under basic set"
   ]
  },
  {
   "cell_type": "code",
   "execution_count": 37,
   "metadata": {},
   "outputs": [],
   "source": [
    "places_details = gmaps.place(place_id= place_id_new,fields= my_fields)"
   ]
  },
  {
   "cell_type": "code",
   "execution_count": 38,
   "metadata": {},
   "outputs": [
    {
     "name": "stdout",
     "output_type": "stream",
     "text": [
      "{'html_attributions': [],\n",
      " 'result': {'adr_address': '<span class=\"street-address\">Rebsteig 2</span>, '\n",
      "                           '<span class=\"postal-code\">78315</span> <span '\n",
      "                           'class=\"locality\">Radolfzell am Bodensee</span>, '\n",
      "                           '<span class=\"country-name\">Germany</span>',\n",
      "            'formatted_address': 'Rebsteig 2, 78315 Radolfzell am Bodensee, '\n",
      "                                 'Germany',\n",
      "            'geometry': {'location': {'lat': 47.73292199999999,\n",
      "                                      'lng': 8.984551},\n",
      "                         'viewport': {'northeast': {'lat': 47.73426328029149,\n",
      "                                                    'lng': 8.985923180291502},\n",
      "                                      'southwest': {'lat': 47.73156531970849,\n",
      "                                                    'lng': 8.983225219708498}}},\n",
      "            'icon': 'https://maps.gstatic.com/mapfiles/place_api/icons/lodging-71.png',\n",
      "            'id': '23ec75ea889247d87907a57397a0b8e548440fb6',\n",
      "            'name': 'Hotel Garni Iris am See',\n",
      "            'place_id': 'ChIJMzX979lhmkcRE5rdeQGWPQA',\n",
      "            'plus_code': {'compound_code': 'PXMM+5R Radolfzell, Germany',\n",
      "                          'global_code': '8FVCPXMM+5R'},\n",
      "            'types': ['cafe',\n",
      "                      'store',\n",
      "                      'lodging',\n",
      "                      'restaurant',\n",
      "                      'point_of_interest',\n",
      "                      'food',\n",
      "                      'establishment'],\n",
      "            'url': 'https://maps.google.com/?cid=17334906663049747',\n",
      "            'utc_offset': 60,\n",
      "            'vicinity': 'Rebsteig 2, Radolfzell am Bodensee'},\n",
      " 'status': 'OK'}\n"
     ]
    }
   ],
   "source": [
    "pprint.pprint(places_details)"
   ]
  },
  {
   "cell_type": "code",
   "execution_count": null,
   "metadata": {},
   "outputs": [],
   "source": []
  },
  {
   "cell_type": "code",
   "execution_count": null,
   "metadata": {},
   "outputs": [],
   "source": []
  },
  {
   "cell_type": "code",
   "execution_count": null,
   "metadata": {},
   "outputs": [],
   "source": []
  },
  {
   "cell_type": "markdown",
   "metadata": {},
   "source": [
    "Reference Video: https://www.youtube.com/watch?v=qkSmuquMueA <br>\n",
    "Get your API: https://developers.google.com/places/web-service/get-api-key <br>\n",
    "Place detail function: https://developers.google.com/places/web-service/details <br>\n",
    "Repo for all googlemaps packages: https://github.com/googlemaps/google-maps-services-python/blob/master/googlemaps/places.py <br>"
   ]
  }
 ],
 "metadata": {
  "kernelspec": {
   "display_name": "Python 3",
   "language": "python",
   "name": "python3"
  },
  "language_info": {
   "codemirror_mode": {
    "name": "ipython",
    "version": 3
   },
   "file_extension": ".py",
   "mimetype": "text/x-python",
   "name": "python",
   "nbconvert_exporter": "python",
   "pygments_lexer": "ipython3",
   "version": "3.6.4"
  }
 },
 "nbformat": 4,
 "nbformat_minor": 2
}
